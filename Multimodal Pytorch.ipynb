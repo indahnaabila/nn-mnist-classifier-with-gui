{
 "cells": [
  {
   "cell_type": "code",
   "execution_count": 1,
   "id": "8dd78733",
   "metadata": {},
   "outputs": [],
   "source": [
    "import numpy as np\n",
    "import torch"
   ]
  },
  {
   "cell_type": "code",
   "execution_count": 2,
   "id": "27e4ff49",
   "metadata": {},
   "outputs": [
    {
     "data": {
      "text/plain": [
       "'2.0.0+cu118'"
      ]
     },
     "execution_count": 2,
     "metadata": {},
     "output_type": "execute_result"
    }
   ],
   "source": [
    "torch.__version__"
   ]
  },
  {
   "cell_type": "code",
   "execution_count": 4,
   "id": "ee844add",
   "metadata": {},
   "outputs": [],
   "source": [
    "#torch vision itu utk mengubah daataset menjadi tensor, pake transform\n",
    "#\n",
    "import torch\n",
    "import torch.nn as nn\n",
    "import torch.nn.functional as F          \n",
    "from torch.utils.data import DataLoader  #load data\n",
    "from torchvision import datasets, transforms\n",
    "\n",
    "import numpy as np\n",
    "import pandas as pd\n",
    "from sklearn.metrics import confusion_matrix\n",
    "import matplotlib.pyplot as plt\n",
    "%matplotlib inline"
   ]
  },
  {
   "cell_type": "code",
   "execution_count": 10,
   "id": "998d9ecf",
   "metadata": {},
   "outputs": [],
   "source": [
    "transform = transforms.ToTensor()"
   ]
  },
  {
   "cell_type": "code",
   "execution_count": 12,
   "id": "6502738f",
   "metadata": {},
   "outputs": [
    {
     "name": "stdout",
     "output_type": "stream",
     "text": [
      "Downloading http://yann.lecun.com/exdb/mnist/train-images-idx3-ubyte.gz\n",
      "Downloading http://yann.lecun.com/exdb/mnist/train-images-idx3-ubyte.gz to /CNN/Data\\MNIST\\raw\\train-images-idx3-ubyte.gz\n"
     ]
    },
    {
     "name": "stderr",
     "output_type": "stream",
     "text": [
      "100%|██████████| 9912422/9912422 [00:01<00:00, 9819049.47it/s] \n"
     ]
    },
    {
     "name": "stdout",
     "output_type": "stream",
     "text": [
      "Extracting /CNN/Data\\MNIST\\raw\\train-images-idx3-ubyte.gz to /CNN/Data\\MNIST\\raw\n",
      "\n",
      "Downloading http://yann.lecun.com/exdb/mnist/train-labels-idx1-ubyte.gz\n",
      "Downloading http://yann.lecun.com/exdb/mnist/train-labels-idx1-ubyte.gz to /CNN/Data\\MNIST\\raw\\train-labels-idx1-ubyte.gz\n"
     ]
    },
    {
     "name": "stderr",
     "output_type": "stream",
     "text": [
      "100%|██████████| 28881/28881 [00:00<?, ?it/s]"
     ]
    },
    {
     "name": "stdout",
     "output_type": "stream",
     "text": [
      "Extracting /CNN/Data\\MNIST\\raw\\train-labels-idx1-ubyte.gz to /CNN/Data\\MNIST\\raw\n",
      "\n",
      "Downloading http://yann.lecun.com/exdb/mnist/t10k-images-idx3-ubyte.gz\n"
     ]
    },
    {
     "name": "stderr",
     "output_type": "stream",
     "text": [
      "\n"
     ]
    },
    {
     "name": "stdout",
     "output_type": "stream",
     "text": [
      "Downloading http://yann.lecun.com/exdb/mnist/t10k-images-idx3-ubyte.gz to /CNN/Data\\MNIST\\raw\\t10k-images-idx3-ubyte.gz\n"
     ]
    },
    {
     "name": "stderr",
     "output_type": "stream",
     "text": [
      "100%|██████████| 1648877/1648877 [00:00<00:00, 7566422.10it/s]\n"
     ]
    },
    {
     "name": "stdout",
     "output_type": "stream",
     "text": [
      "Extracting /CNN/Data\\MNIST\\raw\\t10k-images-idx3-ubyte.gz to /CNN/Data\\MNIST\\raw\n",
      "\n",
      "Downloading http://yann.lecun.com/exdb/mnist/t10k-labels-idx1-ubyte.gz\n",
      "Downloading http://yann.lecun.com/exdb/mnist/t10k-labels-idx1-ubyte.gz to /CNN/Data\\MNIST\\raw\\t10k-labels-idx1-ubyte.gz\n"
     ]
    },
    {
     "name": "stderr",
     "output_type": "stream",
     "text": [
      "100%|██████████| 4542/4542 [00:00<00:00, 4193380.75it/s]"
     ]
    },
    {
     "name": "stdout",
     "output_type": "stream",
     "text": [
      "Extracting /CNN/Data\\MNIST\\raw\\t10k-labels-idx1-ubyte.gz to /CNN/Data\\MNIST\\raw\n",
      "\n"
     ]
    },
    {
     "name": "stderr",
     "output_type": "stream",
     "text": [
      "\n"
     ]
    },
    {
     "data": {
      "text/plain": [
       "Dataset MNIST\n",
       "    Number of datapoints: 60000\n",
       "    Root location: /CNN/Data\n",
       "    Split: Train\n",
       "    StandardTransform\n",
       "Transform: ToTensor()"
      ]
     },
     "execution_count": 12,
     "metadata": {},
     "output_type": "execute_result"
    }
   ],
   "source": [
    "#survise itu ada ann cnn itu MAKE/punya LABEL, contoh lain : random forest, decision tree\n",
    "#data yg ga pake labeljg bisa pake supervise, tp ga lngsung masukin, make metode lain kyk K-means clustering\n",
    "#KMeans itu melabelkan data terdekat\n",
    "\n",
    "train_data = datasets.MNIST(root='/CNN/Data', train=True, download=True, transform=transform)\n",
    "train_data\n"
   ]
  },
  {
   "cell_type": "code",
   "execution_count": 13,
   "id": "77e097d3",
   "metadata": {},
   "outputs": [
    {
     "data": {
      "text/plain": [
       "Dataset MNIST\n",
       "    Number of datapoints: 10000\n",
       "    Root location: /CNN/Data\n",
       "    Split: Test\n",
       "    StandardTransform\n",
       "Transform: ToTensor()"
      ]
     },
     "execution_count": 13,
     "metadata": {},
     "output_type": "execute_result"
    }
   ],
   "source": [
    "test_data = datasets.MNIST(root='/CNN/Data', train=False, download=True, transform=transform)\n",
    "test_data\n"
   ]
  },
  {
   "cell_type": "code",
   "execution_count": 15,
   "id": "69f328a3",
   "metadata": {},
   "outputs": [
    {
     "data": {
      "text/plain": [
       "(tensor([[[0.0000, 0.0000, 0.0000, 0.0000, 0.0000, 0.0000, 0.0000, 0.0000,\n",
       "           0.0000, 0.0000, 0.0000, 0.0000, 0.0000, 0.0000, 0.0000, 0.0000,\n",
       "           0.0000, 0.0000, 0.0000, 0.0000, 0.0000, 0.0000, 0.0000, 0.0000,\n",
       "           0.0000, 0.0000, 0.0000, 0.0000],\n",
       "          [0.0000, 0.0000, 0.0000, 0.0000, 0.0000, 0.0000, 0.0000, 0.0000,\n",
       "           0.0000, 0.0000, 0.0000, 0.0000, 0.0000, 0.0000, 0.0000, 0.0000,\n",
       "           0.0000, 0.0000, 0.0000, 0.0000, 0.0000, 0.0000, 0.0000, 0.0000,\n",
       "           0.0000, 0.0000, 0.0000, 0.0000],\n",
       "          [0.0000, 0.0000, 0.0000, 0.0000, 0.0000, 0.0000, 0.0000, 0.0000,\n",
       "           0.0000, 0.0000, 0.0000, 0.0000, 0.0000, 0.0000, 0.0000, 0.0000,\n",
       "           0.0000, 0.0000, 0.0000, 0.0000, 0.0000, 0.0000, 0.0000, 0.0000,\n",
       "           0.0000, 0.0000, 0.0000, 0.0000],\n",
       "          [0.0000, 0.0000, 0.0000, 0.0000, 0.0000, 0.0000, 0.0000, 0.0000,\n",
       "           0.0000, 0.0000, 0.0000, 0.0000, 0.0000, 0.0000, 0.0000, 0.0000,\n",
       "           0.0000, 0.0000, 0.0000, 0.0000, 0.0000, 0.0000, 0.0000, 0.0000,\n",
       "           0.0000, 0.0000, 0.0000, 0.0000],\n",
       "          [0.0000, 0.0000, 0.0000, 0.0000, 0.0000, 0.0000, 0.0000, 0.0000,\n",
       "           0.0000, 0.0000, 0.0000, 0.0000, 0.0000, 0.0000, 0.0000, 0.0000,\n",
       "           0.0000, 0.0000, 0.0000, 0.0000, 0.0000, 0.0000, 0.0000, 0.0000,\n",
       "           0.0000, 0.0000, 0.0000, 0.0000],\n",
       "          [0.0000, 0.0000, 0.0000, 0.0000, 0.0000, 0.0000, 0.0000, 0.0000,\n",
       "           0.0000, 0.0000, 0.0000, 0.0000, 0.0118, 0.0706, 0.0706, 0.0706,\n",
       "           0.4941, 0.5333, 0.6863, 0.1020, 0.6510, 1.0000, 0.9686, 0.4980,\n",
       "           0.0000, 0.0000, 0.0000, 0.0000],\n",
       "          [0.0000, 0.0000, 0.0000, 0.0000, 0.0000, 0.0000, 0.0000, 0.0000,\n",
       "           0.1176, 0.1412, 0.3686, 0.6039, 0.6667, 0.9922, 0.9922, 0.9922,\n",
       "           0.9922, 0.9922, 0.8824, 0.6745, 0.9922, 0.9490, 0.7647, 0.2510,\n",
       "           0.0000, 0.0000, 0.0000, 0.0000],\n",
       "          [0.0000, 0.0000, 0.0000, 0.0000, 0.0000, 0.0000, 0.0000, 0.1922,\n",
       "           0.9333, 0.9922, 0.9922, 0.9922, 0.9922, 0.9922, 0.9922, 0.9922,\n",
       "           0.9922, 0.9843, 0.3647, 0.3216, 0.3216, 0.2196, 0.1529, 0.0000,\n",
       "           0.0000, 0.0000, 0.0000, 0.0000],\n",
       "          [0.0000, 0.0000, 0.0000, 0.0000, 0.0000, 0.0000, 0.0000, 0.0706,\n",
       "           0.8588, 0.9922, 0.9922, 0.9922, 0.9922, 0.9922, 0.7765, 0.7137,\n",
       "           0.9686, 0.9451, 0.0000, 0.0000, 0.0000, 0.0000, 0.0000, 0.0000,\n",
       "           0.0000, 0.0000, 0.0000, 0.0000],\n",
       "          [0.0000, 0.0000, 0.0000, 0.0000, 0.0000, 0.0000, 0.0000, 0.0000,\n",
       "           0.3137, 0.6118, 0.4196, 0.9922, 0.9922, 0.8039, 0.0431, 0.0000,\n",
       "           0.1686, 0.6039, 0.0000, 0.0000, 0.0000, 0.0000, 0.0000, 0.0000,\n",
       "           0.0000, 0.0000, 0.0000, 0.0000],\n",
       "          [0.0000, 0.0000, 0.0000, 0.0000, 0.0000, 0.0000, 0.0000, 0.0000,\n",
       "           0.0000, 0.0549, 0.0039, 0.6039, 0.9922, 0.3529, 0.0000, 0.0000,\n",
       "           0.0000, 0.0000, 0.0000, 0.0000, 0.0000, 0.0000, 0.0000, 0.0000,\n",
       "           0.0000, 0.0000, 0.0000, 0.0000],\n",
       "          [0.0000, 0.0000, 0.0000, 0.0000, 0.0000, 0.0000, 0.0000, 0.0000,\n",
       "           0.0000, 0.0000, 0.0000, 0.5451, 0.9922, 0.7451, 0.0078, 0.0000,\n",
       "           0.0000, 0.0000, 0.0000, 0.0000, 0.0000, 0.0000, 0.0000, 0.0000,\n",
       "           0.0000, 0.0000, 0.0000, 0.0000],\n",
       "          [0.0000, 0.0000, 0.0000, 0.0000, 0.0000, 0.0000, 0.0000, 0.0000,\n",
       "           0.0000, 0.0000, 0.0000, 0.0431, 0.7451, 0.9922, 0.2745, 0.0000,\n",
       "           0.0000, 0.0000, 0.0000, 0.0000, 0.0000, 0.0000, 0.0000, 0.0000,\n",
       "           0.0000, 0.0000, 0.0000, 0.0000],\n",
       "          [0.0000, 0.0000, 0.0000, 0.0000, 0.0000, 0.0000, 0.0000, 0.0000,\n",
       "           0.0000, 0.0000, 0.0000, 0.0000, 0.1373, 0.9451, 0.8824, 0.6275,\n",
       "           0.4235, 0.0039, 0.0000, 0.0000, 0.0000, 0.0000, 0.0000, 0.0000,\n",
       "           0.0000, 0.0000, 0.0000, 0.0000],\n",
       "          [0.0000, 0.0000, 0.0000, 0.0000, 0.0000, 0.0000, 0.0000, 0.0000,\n",
       "           0.0000, 0.0000, 0.0000, 0.0000, 0.0000, 0.3176, 0.9412, 0.9922,\n",
       "           0.9922, 0.4667, 0.0980, 0.0000, 0.0000, 0.0000, 0.0000, 0.0000,\n",
       "           0.0000, 0.0000, 0.0000, 0.0000],\n",
       "          [0.0000, 0.0000, 0.0000, 0.0000, 0.0000, 0.0000, 0.0000, 0.0000,\n",
       "           0.0000, 0.0000, 0.0000, 0.0000, 0.0000, 0.0000, 0.1765, 0.7294,\n",
       "           0.9922, 0.9922, 0.5882, 0.1059, 0.0000, 0.0000, 0.0000, 0.0000,\n",
       "           0.0000, 0.0000, 0.0000, 0.0000],\n",
       "          [0.0000, 0.0000, 0.0000, 0.0000, 0.0000, 0.0000, 0.0000, 0.0000,\n",
       "           0.0000, 0.0000, 0.0000, 0.0000, 0.0000, 0.0000, 0.0000, 0.0627,\n",
       "           0.3647, 0.9882, 0.9922, 0.7333, 0.0000, 0.0000, 0.0000, 0.0000,\n",
       "           0.0000, 0.0000, 0.0000, 0.0000],\n",
       "          [0.0000, 0.0000, 0.0000, 0.0000, 0.0000, 0.0000, 0.0000, 0.0000,\n",
       "           0.0000, 0.0000, 0.0000, 0.0000, 0.0000, 0.0000, 0.0000, 0.0000,\n",
       "           0.0000, 0.9765, 0.9922, 0.9765, 0.2510, 0.0000, 0.0000, 0.0000,\n",
       "           0.0000, 0.0000, 0.0000, 0.0000],\n",
       "          [0.0000, 0.0000, 0.0000, 0.0000, 0.0000, 0.0000, 0.0000, 0.0000,\n",
       "           0.0000, 0.0000, 0.0000, 0.0000, 0.0000, 0.0000, 0.1804, 0.5098,\n",
       "           0.7176, 0.9922, 0.9922, 0.8118, 0.0078, 0.0000, 0.0000, 0.0000,\n",
       "           0.0000, 0.0000, 0.0000, 0.0000],\n",
       "          [0.0000, 0.0000, 0.0000, 0.0000, 0.0000, 0.0000, 0.0000, 0.0000,\n",
       "           0.0000, 0.0000, 0.0000, 0.0000, 0.1529, 0.5804, 0.8980, 0.9922,\n",
       "           0.9922, 0.9922, 0.9804, 0.7137, 0.0000, 0.0000, 0.0000, 0.0000,\n",
       "           0.0000, 0.0000, 0.0000, 0.0000],\n",
       "          [0.0000, 0.0000, 0.0000, 0.0000, 0.0000, 0.0000, 0.0000, 0.0000,\n",
       "           0.0000, 0.0000, 0.0941, 0.4471, 0.8667, 0.9922, 0.9922, 0.9922,\n",
       "           0.9922, 0.7882, 0.3059, 0.0000, 0.0000, 0.0000, 0.0000, 0.0000,\n",
       "           0.0000, 0.0000, 0.0000, 0.0000],\n",
       "          [0.0000, 0.0000, 0.0000, 0.0000, 0.0000, 0.0000, 0.0000, 0.0000,\n",
       "           0.0902, 0.2588, 0.8353, 0.9922, 0.9922, 0.9922, 0.9922, 0.7765,\n",
       "           0.3176, 0.0078, 0.0000, 0.0000, 0.0000, 0.0000, 0.0000, 0.0000,\n",
       "           0.0000, 0.0000, 0.0000, 0.0000],\n",
       "          [0.0000, 0.0000, 0.0000, 0.0000, 0.0000, 0.0000, 0.0706, 0.6706,\n",
       "           0.8588, 0.9922, 0.9922, 0.9922, 0.9922, 0.7647, 0.3137, 0.0353,\n",
       "           0.0000, 0.0000, 0.0000, 0.0000, 0.0000, 0.0000, 0.0000, 0.0000,\n",
       "           0.0000, 0.0000, 0.0000, 0.0000],\n",
       "          [0.0000, 0.0000, 0.0000, 0.0000, 0.2157, 0.6745, 0.8863, 0.9922,\n",
       "           0.9922, 0.9922, 0.9922, 0.9569, 0.5216, 0.0431, 0.0000, 0.0000,\n",
       "           0.0000, 0.0000, 0.0000, 0.0000, 0.0000, 0.0000, 0.0000, 0.0000,\n",
       "           0.0000, 0.0000, 0.0000, 0.0000],\n",
       "          [0.0000, 0.0000, 0.0000, 0.0000, 0.5333, 0.9922, 0.9922, 0.9922,\n",
       "           0.8314, 0.5294, 0.5176, 0.0627, 0.0000, 0.0000, 0.0000, 0.0000,\n",
       "           0.0000, 0.0000, 0.0000, 0.0000, 0.0000, 0.0000, 0.0000, 0.0000,\n",
       "           0.0000, 0.0000, 0.0000, 0.0000],\n",
       "          [0.0000, 0.0000, 0.0000, 0.0000, 0.0000, 0.0000, 0.0000, 0.0000,\n",
       "           0.0000, 0.0000, 0.0000, 0.0000, 0.0000, 0.0000, 0.0000, 0.0000,\n",
       "           0.0000, 0.0000, 0.0000, 0.0000, 0.0000, 0.0000, 0.0000, 0.0000,\n",
       "           0.0000, 0.0000, 0.0000, 0.0000],\n",
       "          [0.0000, 0.0000, 0.0000, 0.0000, 0.0000, 0.0000, 0.0000, 0.0000,\n",
       "           0.0000, 0.0000, 0.0000, 0.0000, 0.0000, 0.0000, 0.0000, 0.0000,\n",
       "           0.0000, 0.0000, 0.0000, 0.0000, 0.0000, 0.0000, 0.0000, 0.0000,\n",
       "           0.0000, 0.0000, 0.0000, 0.0000],\n",
       "          [0.0000, 0.0000, 0.0000, 0.0000, 0.0000, 0.0000, 0.0000, 0.0000,\n",
       "           0.0000, 0.0000, 0.0000, 0.0000, 0.0000, 0.0000, 0.0000, 0.0000,\n",
       "           0.0000, 0.0000, 0.0000, 0.0000, 0.0000, 0.0000, 0.0000, 0.0000,\n",
       "           0.0000, 0.0000, 0.0000, 0.0000]]]),\n",
       " 5)"
      ]
     },
     "execution_count": 15,
     "metadata": {},
     "output_type": "execute_result"
    }
   ],
   "source": [
    "#Preview training data\n",
    "train_data[0]\n"
   ]
  },
  {
   "cell_type": "code",
   "execution_count": 25,
   "id": "c8a7a8bb",
   "metadata": {},
   "outputs": [
    {
     "name": "stdout",
     "output_type": "stream",
     "text": [
      "Shape: torch.Size([1, 28, 28]) \n",
      "Label: 5\n"
     ]
    },
    {
     "data": {
      "image/png": "[encoded data removed]",
      "text/plain": [
       "<Figure size 640x480 with 1 Axes>"
      ]
     },
     "metadata": {},
     "output_type": "display_data"
    }
   ],
   "source": [
    "image, label = train_data[0]\n",
    "print('Shape:', image.shape, '\\nLabel:', label)\n",
    "\n",
    "plt.imshow(train_data[0][0].reshape((28,28)), cmap=\"gray\");\n"
   ]
  },
  {
   "cell_type": "code",
   "execution_count": 18,
   "id": "ba7436de",
   "metadata": {},
   "outputs": [],
   "source": [
    "torch.manual_seed(101) #ga harus 101 (yg populer 101, 48, 23,)\n",
    "#di awal iterasi kan harus masukin nilai weight sm bias\n",
    "#101 itu random data utk weight yg udah di set valuenya\n",
    "#kan kalo anu baru tu nilai weightnya ga aifx, ada data baru trs.\n",
    "#yg paling cepet dan akurasi bagus tu randm weightnya 101\n",
    "\n",
    "train_loader = DataLoader(train_data, batch_size=100, shuffle=True) \n",
    "#partisi train data jd 100 100\n",
    "#suffle dibuat true agar optimal pencarian weightnya\n",
    "#datanya tu dishuffle atau diavak lg setiap iterasinya\n",
    "#biar mudeng liat gambar di https://towardsdatascience.com/cross-validation-c4fae714f1c5\n",
    "\n",
    "test_loader = DataLoader(test_data, batch_size=500, shuffle=False)\n"
   ]
  },
  {
   "cell_type": "code",
   "execution_count": 22,
   "id": "56aed8d0",
   "metadata": {},
   "outputs": [
    {
     "name": "stdout",
     "output_type": "stream",
     "text": [
      "Labels:  [   7    1    6    9    5    0    7    1    1    9    5    7]\n"
     ]
    },
    {
     "data": {
      "image/png": "[encoded data removed]",
      "text/plain": [
       "<Figure size 1000x400 with 1 Axes>"
      ]
     },
     "metadata": {},
     "output_type": "display_data"
    }
   ],
   "source": [
    "#torch.size([100, 1, 28, 28])\n",
    "from torchvision.utils import make_grid\n",
    "np.set_printoptions(formatter=dict(int=lambda x: f'{x:4}')) # format to widen the printed array\n",
    "\n",
    "# Grab the first batch of images\n",
    "for images,labels in train_loader: \n",
    "    break\n",
    "\n",
    "# Print the first 12 labels from 100 labels (remember we set 1 batch = 100 images)\n",
    "print('Labels: ', labels[:12].numpy())\n",
    "\n",
    "# Print the first 12 images\n",
    "im = make_grid(images[:12], nrow=12)  #yang ditampilkan dibatasi sampe 12 aja\n",
    "plt.figure(figsize=(10,4))\n",
    "# We need to transpose the images from CWH (Color, Width, Height) to WHC (Width, Height, Color)\n",
    "plt.imshow(np.transpose(im.numpy(), (1, 2, 0))); #1,2,0 tu dr torch shape diubah jd 28,28,1\n"
   ]
  },
  {
   "cell_type": "code",
   "execution_count": 26,
   "id": "c7fad6ad",
   "metadata": {},
   "outputs": [],
   "source": [
    "class MultilayerPerceptron(nn.Module):\n",
    "    def __init__(self, in_sz=784, out_sz=10, layers=[120,84]): #784 dr 28x28\n",
    "        super().__init__()\n",
    "        self.fc1 = nn.Linear(in_sz,layers[0]) #input layer, layers[0]==> taken grom layer=120, look the function header\n",
    "        self.fc2 = nn.Linear(layers[0],layers[1]) #hidden layer 1\n",
    "        self.fc3 = nn.Linear(layers[1],out_sz) #hidden layer 2 to output\n",
    "    #itu diatas adl linier combiner, cek di slide hal 30 pkknya yg ppt dsc\n",
    "    #multiclass sbeaiknya menghindari sigmoid sm linear, jd make relU\n",
    "    \n",
    "    def forward(self,X): #forward bias\n",
    "        X = F.relu(self.fc1(X)) #forward input layer to hidden layer 1\n",
    "        X = F.relu(self.fc2(X)) #result from previous layer, pass to the hidden layer 1 - 2\n",
    "        X = self.fc3(X) #forward process from hidden layer 2 to output\n",
    "        return F.log_softmax(X, dim=1) #dim=dimension\n",
    "\n",
    "    #fungsi dr fungsi aktivasi adl normalisasi, jdangka yang di ... hrs ada rangenya batas atas batas bawah\n",
    "    #angka bervariasi dr linear combiner itu dimasukkan ke activ func sbg Z, cek persnya di sigmoid act func di gugel\n",
    "    \n",
    "    #proses ke depan namanya forward, itung eror, kalo makin besar erornya, dikembalikan ke awal\n",
    "    #namanya back propagation\n",
    "    \n",
    "    #ngeset value eror terserah kt (?)\n",
    "    \n",
    "    #sete;ah output layer ada softmax"
   ]
  },
  {
   "cell_type": "code",
   "execution_count": 28,
   "id": "2efd40e6",
   "metadata": {},
   "outputs": [
    {
     "data": {
      "text/plain": [
       "MultilayerPerceptron(\n",
       "  (fc1): Linear(in_features=784, out_features=120, bias=True)\n",
       "  (fc2): Linear(in_features=120, out_features=84, bias=True)\n",
       "  (fc3): Linear(in_features=84, out_features=10, bias=True)\n",
       ")"
      ]
     },
     "execution_count": 28,
     "metadata": {},
     "output_type": "execute_result"
    }
   ],
   "source": [
    "torch.manual_seed(101)\n",
    "model = MultilayerPerceptron()\n",
    "model\n",
    "#bias = True meaning that we add bias in each neuron"
   ]
  },
  {
   "cell_type": "code",
   "execution_count": 30,
   "id": "0c9b3f3d",
   "metadata": {},
   "outputs": [],
   "source": [
    "criterion = nn.CrossEntropyLoss()\n",
    "optimizer = torch.optim.Adam(model.parameters(), lr=0.001) #learning rate adalah MIU standarnya 0,001\n",
    "#ttg optimizer di ppt"
   ]
  },
  {
   "cell_type": "code",
   "execution_count": 32,
   "id": "7fef6586",
   "metadata": {},
   "outputs": [
    {
     "name": "stdout",
     "output_type": "stream",
     "text": [
      "Batch shape: torch.Size([100, 1, 28, 28])\n"
     ]
    }
   ],
   "source": [
    "# Load the first batch, print its shape\n",
    "for images, labels in train_loader:\n",
    "    print('Batch shape:', images.size())\n",
    "    break\n"
   ]
  },
  {
   "cell_type": "code",
   "execution_count": 33,
   "id": "dea8aebb",
   "metadata": {},
   "outputs": [
    {
     "data": {
      "text/plain": [
       "torch.Size([100, 784])"
      ]
     },
     "execution_count": 33,
     "metadata": {},
     "output_type": "execute_result"
    }
   ],
   "source": [
    "images.view(100, -1). size() #ini karena misal for 0 to 10, 10 nya tu ga masuk cuma sampe 9 , jd dikasi -1\n",
    "#-1 , meaning grab all after array 100 until sequence before -1, and combine them into a single dimension"
   ]
  },
  {
   "cell_type": "code",
   "execution_count": 34,
   "id": "4fbca6dc",
   "metadata": {},
   "outputs": [
    {
     "name": "stdout",
     "output_type": "stream",
     "text": [
      "epoch:  0  batch:  200 [ 20000/60000]  loss: 0.29955012  accuracy:  82.655%\n",
      "epoch:  0  batch:  400 [ 40000/60000]  loss: 0.27258998  accuracy:  87.248%\n",
      "epoch:  0  batch:  600 [ 60000/60000]  loss: 0.18161915  accuracy:  89.317%\n",
      "epoch:  1  batch:  200 [ 20000/60000]  loss: 0.17173445  accuracy:  94.625%\n",
      "epoch:  1  batch:  400 [ 40000/60000]  loss: 0.05133364  accuracy:  95.005%\n",
      "epoch:  1  batch:  600 [ 60000/60000]  loss: 0.14173491  accuracy:  95.252%\n",
      "epoch:  2  batch:  200 [ 20000/60000]  loss: 0.16810292  accuracy:  96.565%\n",
      "epoch:  2  batch:  400 [ 40000/60000]  loss: 0.17132746  accuracy:  96.530%\n",
      "epoch:  2  batch:  600 [ 60000/60000]  loss: 0.10914480  accuracy:  96.592%\n",
      "epoch:  3  batch:  200 [ 20000/60000]  loss: 0.14204615  accuracy:  97.470%\n",
      "epoch:  3  batch:  400 [ 40000/60000]  loss: 0.01208984  accuracy:  97.487%\n",
      "epoch:  3  batch:  600 [ 60000/60000]  loss: 0.07614830  accuracy:  97.408%\n",
      "epoch:  4  batch:  200 [ 20000/60000]  loss: 0.05001246  accuracy:  98.020%\n",
      "epoch:  4  batch:  400 [ 40000/60000]  loss: 0.10280345  accuracy:  97.955%\n",
      "epoch:  4  batch:  600 [ 60000/60000]  loss: 0.09675316  accuracy:  97.970%\n",
      "epoch:  5  batch:  200 [ 20000/60000]  loss: 0.07435258  accuracy:  98.495%\n",
      "epoch:  5  batch:  400 [ 40000/60000]  loss: 0.02579743  accuracy:  98.390%\n",
      "epoch:  5  batch:  600 [ 60000/60000]  loss: 0.03996041  accuracy:  98.303%\n",
      "epoch:  6  batch:  200 [ 20000/60000]  loss: 0.02392099  accuracy:  98.800%\n",
      "epoch:  6  batch:  400 [ 40000/60000]  loss: 0.04844107  accuracy:  98.660%\n",
      "epoch:  6  batch:  600 [ 60000/60000]  loss: 0.03596024  accuracy:  98.687%\n",
      "epoch:  7  batch:  200 [ 20000/60000]  loss: 0.00479133  accuracy:  99.065%\n",
      "epoch:  7  batch:  400 [ 40000/60000]  loss: 0.00872333  accuracy:  98.945%\n",
      "epoch:  7  batch:  600 [ 60000/60000]  loss: 0.02985462  accuracy:  98.842%\n",
      "epoch:  8  batch:  200 [ 20000/60000]  loss: 0.00749040  accuracy:  99.245%\n",
      "epoch:  8  batch:  400 [ 40000/60000]  loss: 0.08412317  accuracy:  99.190%\n",
      "epoch:  8  batch:  600 [ 60000/60000]  loss: 0.05131966  accuracy:  99.147%\n",
      "epoch:  9  batch:  200 [ 20000/60000]  loss: 0.03850808  accuracy:  99.345%\n",
      "epoch:  9  batch:  400 [ 40000/60000]  loss: 0.04400195  accuracy:  99.295%\n",
      "epoch:  9  batch:  600 [ 60000/60000]  loss: 0.01973241  accuracy:  99.222%\n",
      "\n",
      "Duration: 71 seconds\n"
     ]
    }
   ],
   "source": [
    "#TRAIN DATA\n",
    "import time\n",
    "start_time = time.time()\n",
    "\n",
    "#bisa percobaan batch(?) sozenya ditambah, ini kan 100\n",
    "\n",
    "epochs = 10 #try and try\n",
    "train_losses = []\n",
    "test_losses = []\n",
    "train_correct = []\n",
    "test_correct = []\n",
    "\n",
    "for i in range(epochs):\n",
    "    trn_corr = 0 #train correct currently\n",
    "    tst_corr = 0 #test correst\n",
    "    \n",
    "    # Run the training batches\n",
    "    # with enumerate, we're actually going to keep track of what batch number we're on with B.\n",
    "    for b, (X_train, y_train) in enumerate(train_loader): #y_train=output = label, b = batches, train_loader = return back the image and its label\n",
    "        b+=1\n",
    "        \n",
    "        # Apply the model\n",
    "        y_pred = model(X_train.view(100, -1))  # Here we flatten X_train\n",
    "        loss = criterion(y_pred, y_train) #calculating error difference\n",
    " \n",
    "        # calculate the number of correct predictions\n",
    "        predicted = torch.max(y_pred.data, 1)[1] #check print(y_pred.data) to know data of one epoch, 1 = actual predicted value\n",
    "        batch_corr = (predicted == y_train).sum()\n",
    "        trn_corr += batch_corr\n",
    "        \n",
    "        # Update parameters\n",
    "        optimizer.zero_grad()\n",
    "        loss.backward()\n",
    "        optimizer.step()\n",
    "        \n",
    "        # Print results per epoch:\n",
    "        if b%200 == 0:\n",
    "            print(f'epoch: {i:2}  batch: {b:4} [{100*b:6}/60000]  loss: {loss.item():10.8f}  \\\n",
    "accuracy: {trn_corr.item()*100/(100*b):7.3f}%')\n",
    "    \n",
    "    # Update train loss & accuracy for the epoch\n",
    "    train_losses.append(loss.item())\n",
    "    train_correct.append(trn_corr.item())\n",
    "        \n",
    "    # Run the testing batches\n",
    "    with torch.no_grad(): #don't update weight and bias in test data\n",
    "        for b, (X_test, y_test) in enumerate(test_loader): #enumerate itu indexing\n",
    "\n",
    "            # Apply the model\n",
    "            y_val = model(X_test.view(500, -1))  # Here we flatten X_test, 500 because batch size for test data in cell above = 500\n",
    "\n",
    "            # Calculating the number of correct predictions\n",
    "            predicted = torch.max(y_val.data, 1)[1] \n",
    "            #kan td setelah dianukan softmax 0 sampe 1, nah itu dicari maxnya\n",
    "            #jd max itu dicari yg paling mendekati nilai 1\n",
    "            # , 1 itu actualnya 1 di hot td. misal angkanya itu 5, nah 5 itu 1 yg lain 0 0 0\n",
    "            tst_corr += (predicted == y_test).sum()\n",
    "    \n",
    "    # Update test loss & accuracy for the epoch\n",
    "    loss = criterion(y_val, y_test)\n",
    "    test_losses.append(loss)\n",
    "    test_correct.append(tst_corr)\n",
    "        \n",
    "print(f'\\nDuration: {time.time() - start_time:.0f} seconds') # print the time elapsed\n"
   ]
  },
  {
   "cell_type": "code",
   "execution_count": 35,
   "id": "d5811ff9",
   "metadata": {},
   "outputs": [
    {
     "data": {
      "image/png": "[encoded data removed]",
      "text/plain": [
       "<Figure size 640x480 with 1 Axes>"
      ]
     },
     "metadata": {},
     "output_type": "display_data"
    }
   ],
   "source": [
    "# Evaluation\n",
    "plt.plot(train_losses, label='training loss')\n",
    "plt.plot(test_losses, label='validation loss')\n",
    "plt.title('Loss at the end of each epoch')\n",
    "plt.legend();\n",
    "#termasuk bagus karena validation lossnya LBH TINGGI (emg ini yg kita harapkan)\n",
    "#masih agak sama kyk training. tp setelah epok 8 naik trs turun itu kurng konvergen\n",
    "#konvergen = mendekati 0"
   ]
  },
  {
   "cell_type": "code",
   "execution_count": 36,
   "id": "f2f441d2",
   "metadata": {},
   "outputs": [
    {
     "data": {
      "image/png": "[encoded data removed]",
      "text/plain": [
       "<Figure size 640x480 with 1 Axes>"
      ]
     },
     "metadata": {},
     "output_type": "display_data"
    }
   ],
   "source": [
    "plt.plot([t/600 for t in train_correct], label='training accuracy') #600 because training data consist of 60,000/100 (batch size) =  600\n",
    "plt.plot([t/100 for t in test_correct], label='validation accuracy') #100 because test data 10,000/100 = 100\n",
    "plt.title('Accuracy at the end of each epoch')\n",
    "plt.legend();\n"
   ]
  },
  {
   "cell_type": "code",
   "execution_count": 37,
   "id": "49d196f0",
   "metadata": {},
   "outputs": [
    {
     "name": "stdout",
     "output_type": "stream",
     "text": [
      "Test accuracy: 9765/10000 =  97.650%\n"
     ]
    }
   ],
   "source": [
    "#Evaluate test data\n",
    "# Extract the data all at once, not in batches\n",
    "test_load_all = DataLoader(test_data, batch_size=10000, shuffle=False)\n",
    "\n",
    "with torch.no_grad():\n",
    "    correct = 0\n",
    "    for X_test, y_test in test_load_all:\n",
    "        y_val = model(X_test.view(len(X_test), -1))  # pass in a flattened view of X_test\n",
    "        predicted = torch.max(y_val,1)[1]\n",
    "        correct += (predicted == y_test).sum()\n",
    "print(f'Test accuracy: {correct.item()}/{len(test_data)} = {correct.item()*100/(len(test_data)):7.3f}%')\n"
   ]
  },
  {
   "cell_type": "code",
   "execution_count": 38,
   "id": "fb782f61",
   "metadata": {},
   "outputs": [
    {
     "name": "stdout",
     "output_type": "stream",
     "text": [
      "[[   0    1    2    3    4    5    6    7    8    9]]\n",
      "\n",
      "[[ 971    0    1    1    0    1    1    1    3    5]\n",
      " [   0 1122    2    0    1    1    3    8    0    3]\n",
      " [   2    3 1017    6    6    0    2   12    2    0]\n",
      " [   1    3    3  993    0   19    1    5    3    9]\n",
      " [   0    0    1    0  950    1    2    0    0    7]\n",
      " [   0    0    0    1    0  850    1    1    2    8]\n",
      " [   3    1    2    1    9    9  947    0    3    1]\n",
      " [   0    0    3    3    2    0    0  990    2    0]\n",
      " [   3    6    2    3    2   10    1    6  956    7]\n",
      " [   0    0    1    2   12    1    0    5    3  969]]\n"
     ]
    }
   ],
   "source": [
    "#Confusion Matrix\n",
    "# print a row of values for reference\n",
    "np.set_printoptions(formatter=dict(int=lambda x: f'{x:4}')) #x:4 => giving space each data\n",
    "print(np.arange(10).reshape(1,10))\n",
    "print()\n",
    "\n",
    "# print the confusion matrix\n",
    "print(confusion_matrix(predicted.view(-1), y_test.view(-1))) #The view(-1) operation flattens the tensor,\n",
    "\n",
    "#yg paling tinggi akurasinya yg 1\n",
    "# itu di kiri 0-9 ke bawah (sumbu y) = testtt view\n",
    "#kalo yg sumber x itu prediksi\n",
    "# itu angka2 kek 12 19 itu banyak salahnya"
   ]
  },
  {
   "cell_type": "code",
   "execution_count": null,
   "id": "06444124",
   "metadata": {},
   "outputs": [],
   "source": [
    "#TUGAS\n",
    "#try to design another model of ANN to classofy MNIST\n",
    "#ngubah di codingan 3.2 coba pake yg 2^n, di tengah menggembung\n",
    "#pake GUI STREAMLIT WAKAKAKAKAKKA"
   ]
  }
 ],
 "metadata": {
  "kernelspec": {
   "display_name": "Python 3 (ipykernel)",
   "language": "python",
   "name": "python3"
  },
  "language_info": {
   "codemirror_mode": {
    "name": "ipython",
    "version": 3
   },
   "file_extension": ".py",
   "mimetype": "text/x-python",
   "name": "python",
   "nbconvert_exporter": "python",
   "pygments_lexer": "ipython3",
   "version": "3.9.16"
  }
 },
 "nbformat": 4,
 "nbformat_minor": 5
}
